{
 "cells": [
  {
   "cell_type": "code",
   "execution_count": 9,
   "metadata": {},
   "outputs": [],
   "source": [
    "import numpy as np\n",
    "import pandas as pd\n",
    "import networkx as nx\n",
    "import matplotlib.pyplot as plt\n",
    "import seaborn as sns\n",
    "\n",
    "# Modules for fast matrix multiplication\n",
    "import scipy.sparse as sp\n",
    "from sparse_dot_mkl import dot_product_mkl"
   ]
  },
  {
   "cell_type": "code",
   "execution_count": 5,
   "metadata": {},
   "outputs": [],
   "source": [
    "def remove_isolated_vertices(adj_matrix):\n",
    "    \"\"\"\n",
    "    Removes isolated vertices from the adjacency matrix.\n",
    "\n",
    "    Args:\n",
    "        adj_matrix (np.array): Adjacency matrix of the graph.\n",
    "\n",
    "    Returns:\n",
    "        new_matrix (np.array): Adjacency matrix without isolated vertices.\n",
    "        non_isolated_indices (np.array): Indices of vertices that are not isolated.\n",
    "    \"\"\"\n",
    "    # Compute the degree of each vertex (row sum)\n",
    "    vertex_degrees = adj_matrix.sum(axis=1)\n",
    "\n",
    "    # Find indices of non-isolated vertices (degree ≠ 0)\n",
    "    non_isolated_indices = np.where(vertex_degrees != 0)[0]\n",
    "\n",
    "    # Build new adjacency matrix with only non-isolated vertices\n",
    "    new_matrix = adj_matrix[np.ix_(non_isolated_indices, non_isolated_indices)]\n",
    "\n",
    "    return new_matrix, non_isolated_indices\n",
    "\n",
    "\n",
    "def ksi_centrality(adj_matrix, ksi_regime='normalized', matrix_regime='numpy'):\n",
    "    \"\"\"\n",
    "    Computes the ksi-centrality vector for each vertex in the graph.\n",
    "\n",
    "    The graph is assumed to be undirected and optionally weighted.\n",
    "\n",
    "    Algorithm:\n",
    "        1. Create a binary indicator matrix B where B[i, j] = 1 if A[i, j] > 0, else 0.\n",
    "        2. Compute second-degree weights: second_weight = B @ A,\n",
    "           where second_weight[i, j] aggregates edge weights leading to j via neighbors of i.\n",
    "        3. Zero out elements corresponding to direct neighbors (A[i, j] > 0) and the diagonal (i == j).\n",
    "        4. Normalize each row by the sum of outgoing edge weights (weighted degree).\n",
    "\n",
    "    Args:\n",
    "        adj_matrix (np.array): Symmetric adjacency matrix of a connected graph.\n",
    "        ksi_regime (str): Either \"normalized\" (default) or \"regular\".\n",
    "        matrix_regime (str): Either \"numpy\" for dense arrays or \"scipy_sparce\" for sparse matrix operations.\n",
    "\n",
    "    Returns:\n",
    "        ksi_vector (np.array): Computed ksi-centrality values.\n",
    "    \"\"\"\n",
    "    if matrix_regime == 'numpy':\n",
    "        # 1. Binarize the adjacency matrix: edge presence as 1\n",
    "        B = (adj_matrix > 0).astype(int)\n",
    "\n",
    "        # 2. Compute second-degree weights\n",
    "        second_weight = B @ adj_matrix\n",
    "\n",
    "    elif matrix_regime == 'scipy_sparce':\n",
    "        A_sparse = sp.csr_matrix(adj_matrix)\n",
    "\n",
    "        # Binarize: B[i, j] = 1 if A[i, j] > 0\n",
    "        B_sparse = A_sparse.copy()\n",
    "        B_sparse.data[:] = 1\n",
    "\n",
    "        # Perform sparse matrix multiplication\n",
    "        second_weight_sparse = dot_product_mkl(B_sparse, A_sparse)\n",
    "\n",
    "        # Convert to dense array for further processing\n",
    "        second_weight = second_weight_sparse.toarray()\n",
    "\n",
    "    else:\n",
    "        raise ValueError(\"matrix_regime must be 'numpy' or 'scipy_sparce'\")\n",
    "\n",
    "    # 3. Exclude direct neighbors and self-loops\n",
    "    exclusion_mask = (adj_matrix > 0) | np.eye(adj_matrix.shape[0], dtype=bool)\n",
    "    second_weight[exclusion_mask] = 0\n",
    "\n",
    "    # 4. Normalize by weighted degree (row sum)\n",
    "    weighted_deg = adj_matrix.sum(axis=1)\n",
    "\n",
    "    if ksi_regime == \"regular\":\n",
    "        normalized_second = second_weight / weighted_deg[:, np.newaxis]\n",
    "        ksi_vector = normalized_second.sum(axis=1)\n",
    "\n",
    "    elif ksi_regime == \"normalized\":\n",
    "        # Count number of neighbors\n",
    "        neighbor_count = B.sum(axis=1)\n",
    "\n",
    "        # First normalize by weighted degree\n",
    "        temp = second_weight / weighted_deg[:, np.newaxis]\n",
    "\n",
    "        # Further normalize by number of non-neighbors\n",
    "        normalized_second = temp / (len(adj_matrix) - neighbor_count[:, np.newaxis])\n",
    "        ksi_vector = normalized_second.sum(axis=1)\n",
    "\n",
    "    else:\n",
    "        raise ValueError(\"Unknown ksi_regime. Use 'regular' or 'normalized'.\")\n",
    "\n",
    "    return ksi_vector\n"
   ]
  },
  {
   "cell_type": "code",
   "execution_count": null,
   "metadata": {},
   "outputs": [],
   "source": [
    "# Example: Generate a scale-free network using the Barabási–Albert model\n",
    "G = nx.barabasi_albert_graph(10000, 3)\n",
    "\n",
    "# Convert the graph to an adjacency matrix (NumPy array)\n",
    "A = nx.to_numpy_array(G)\n",
    "\n",
    "# Remove isolated vertices, if any (though BA model typically doesn't produce them)\n",
    "A = remove_isolated_vertices(A)[0]"
   ]
  },
  {
   "cell_type": "code",
   "execution_count": 27,
   "metadata": {},
   "outputs": [],
   "source": [
    "# Compute ksi-centrality using sparse matrices (faster if the matrix is truly sparse)\n",
    "# In our case, the Barabási–Albert (BA) graph is indeed sparse: each node connects to only a few others,\n",
    "# so the adjacency matrix contains mostly zeros.\n",
    "ksi = ksi_centrality(A, ksi_regime='regular', matrix_regime='scipy_sparce')"
   ]
  },
  {
   "cell_type": "code",
   "execution_count": null,
   "metadata": {},
   "outputs": [
    {
     "data": {
      "image/png": "[encoded data removed]",
      "text/plain": [
       "<Figure size 640x480 with 1 Axes>"
      ]
     },
     "metadata": {},
     "output_type": "display_data"
    }
   ],
   "source": [
    "# Distribution of ksi-centrality for a synthetic Barabási–Albert graph\n",
    "sns.histplot(ksi)\n",
    "plt.title(\"Distribution of Ksi-Centrality\")\n",
    "plt.xlabel(\"Ksi-Centrality Value\")\n",
    "plt.ylabel('')\n",
    "plt.grid(True)\n",
    "plt.show()"
   ]
  },
  {
   "cell_type": "code",
   "execution_count": null,
   "metadata": {},
   "outputs": [],
   "source": [
    "#real network example - https://networks.skewed.de/net/facebook_organizations S1\n",
    "\n",
    "real_edges = pd.read_csv('facebook_s1.csv')\n",
    "real_g = nx.to_numpy_array(nx.from_pandas_edgelist(real_edges))"
   ]
  },
  {
   "cell_type": "code",
   "execution_count": 32,
   "metadata": {},
   "outputs": [
    {
     "data": {
      "text/plain": [
       "2369"
      ]
     },
     "execution_count": 32,
     "metadata": {},
     "output_type": "execute_result"
    }
   ],
   "source": [
    "len(real_edges)"
   ]
  },
  {
   "cell_type": "code",
   "execution_count": 28,
   "metadata": {},
   "outputs": [],
   "source": [
    "real_ksi = ksi_centrality(real_g, ksi_regime= 'regular', matrix_regime = 'scipy_sparce')"
   ]
  },
  {
   "cell_type": "code",
   "execution_count": 16,
   "metadata": {},
   "outputs": [
    {
     "data": {
      "image/png": "[encoded data removed]",
      "text/plain": [
       "<Figure size 640x480 with 1 Axes>"
      ]
     },
     "metadata": {},
     "output_type": "display_data"
    }
   ],
   "source": [
    "#Distribution of ksi-centrality for a real network\n",
    "sns.histplot(real_ksi)\n",
    "plt.title(\"Distribution of Ksi-Centrality\")\n",
    "plt.xlabel(\"Ksi-Centrality Value\")\n",
    "plt.ylabel('')\n",
    "plt.grid(True)\n",
    "plt.show()"
   ]
  },
  {
   "cell_type": "markdown",
   "metadata": {},
   "source": [
    "# Scipy sparce realization"
   ]
  },
  {
   "cell_type": "code",
   "execution_count": 25,
   "metadata": {},
   "outputs": [],
   "source": [
    "def remove_isolated_vertices_sparse(A_sparse):\n",
    "    \"\"\"\n",
    "    Removes isolated vertices from a sparse adjacency matrix.\n",
    "\n",
    "    Args:\n",
    "        A_sparse (scipy.sparse matrix): Sparse adjacency matrix.\n",
    "\n",
    "    Returns:\n",
    "        new_A_sparse (scipy.sparse matrix): Adjacency matrix without isolated vertices.\n",
    "        non_isolated_indices (np.ndarray): Indices of non-isolated vertices.\n",
    "    \"\"\"\n",
    "    # Compute degree of each vertex (row sum)\n",
    "    degrees = np.array(A_sparse.sum(axis=1)).ravel()\n",
    "\n",
    "    # Find indices of non-isolated vertices\n",
    "    non_isolated_indices = np.where(degrees != 0)[0]\n",
    "\n",
    "    # Extract submatrix (first rows, then columns)\n",
    "    new_A_sparse = A_sparse[non_isolated_indices, :][:, non_isolated_indices]\n",
    "\n",
    "    return new_A_sparse, non_isolated_indices\n",
    "\n",
    "\n",
    "def ksi_centrality_sparse(A_sparse, ksi_regime='normalized'):\n",
    "    \"\"\"\n",
    "    Computes the ksi-centrality vector using only sparse matrix operations. (instead of numpy  multiplication in ksi_centrality)\n",
    "\n",
    "    Algorithm:\n",
    "        1. Binarize A_sparse: create B_sparse where all non-zero elements are set to 1.\n",
    "        2. Compute second-degree weights: second_weight = B_sparse @ A_sparse.\n",
    "        3. Remove contributions from direct neighbors and self-loops by masking.\n",
    "        4. Normalize each row by the weighted degree.\n",
    "           If ksi_regime is 'normalized', apply an additional normalization by (n - number of neighbors).\n",
    "\n",
    "    Args:\n",
    "        A_sparse (scipy.sparse matrix): Symmetric sparse adjacency matrix (CSR format recommended).\n",
    "        ksi_regime (str): Either 'regular' or 'normalized'.\n",
    "\n",
    "    Returns:\n",
    "        second_weight_sparse (scipy.sparse matrix): Matrix of second-degree weights after exclusion.\n",
    "        ksi_vector (np.ndarray): Computed ksi-centrality values.\n",
    "    \"\"\"\n",
    "    A_sparse = A_sparse.tocsr()\n",
    "\n",
    "    # 1. Binarize weighted graph\n",
    "    B_sparse = A_sparse.copy()\n",
    "    B_sparse.data = np.ones_like(B_sparse.data)\n",
    "\n",
    "    # 2. Compute second-degree weights\n",
    "    second_weight_sparse = B_sparse @ A_sparse\n",
    "\n",
    "    # 3. Mask direct neighbors and diagonal\n",
    "    A_binary = A_sparse.copy()\n",
    "    A_binary.data = np.ones_like(A_binary.data)\n",
    "\n",
    "    mask = A_binary + sp.eye(A_sparse.shape[0], format='csr')\n",
    "    second_weight_sparse = second_weight_sparse - second_weight_sparse.multiply(mask)\n",
    "\n",
    "    # 4. Normalize each row by weighted degree\n",
    "    weighted_deg = np.array(A_sparse.sum(axis=1)).ravel()\n",
    "    D_inv = sp.diags(1 / weighted_deg)\n",
    "    normalized_second_sparse = D_inv @ second_weight_sparse\n",
    "\n",
    "    if ksi_regime == 'regular':\n",
    "        # Sum each row to get ksi-centrality vector\n",
    "        ksi_vector = np.array(normalized_second_sparse.sum(axis=1)).ravel()\n",
    "\n",
    "    elif ksi_regime == 'normalized':\n",
    "        # Compute number of neighbors per vertex\n",
    "        neighbor_count = np.array(A_binary.sum(axis=1)).ravel()\n",
    "        n = A_sparse.shape[0]\n",
    "\n",
    "        # Additional normalization by (n - number of neighbors)\n",
    "        norm_factor = n - neighbor_count\n",
    "        N_inv = sp.diags(1 / norm_factor)\n",
    "\n",
    "        normalized_second_sparse = N_inv @ normalized_second_sparse\n",
    "        ksi_vector = np.array(normalized_second_sparse.sum(axis=1)).ravel()\n",
    "\n",
    "    else:\n",
    "        raise ValueError(\"Unknown ksi_regime. Use 'regular' or 'normalized'.\")\n",
    "\n",
    "    return ksi_vector\n"
   ]
  },
  {
   "cell_type": "code",
   "execution_count": 19,
   "metadata": {},
   "outputs": [],
   "source": [
    "A_sparse = nx.to_scipy_sparse_array(G, format='csr')"
   ]
  },
  {
   "cell_type": "code",
   "execution_count": 24,
   "metadata": {},
   "outputs": [],
   "source": [
    "A_sparse, _ = remove_isolated_vertices_sparse(A_sparse)"
   ]
  },
  {
   "cell_type": "code",
   "execution_count": 26,
   "metadata": {},
   "outputs": [],
   "source": [
    "ksi_vector_sparce = ksi_centrality_sparse(A_sparse, ksi_regime='regular')"
   ]
  }
 ],
 "metadata": {
  "kernelspec": {
   "display_name": "base",
   "language": "python",
   "name": "python3"
  },
  "language_info": {
   "codemirror_mode": {
    "name": "ipython",
    "version": 3
   },
   "file_extension": ".py",
   "mimetype": "text/x-python",
   "name": "python",
   "nbconvert_exporter": "python",
   "pygments_lexer": "ipython3",
   "version": "3.12.4"
  }
 },
 "nbformat": 4,
 "nbformat_minor": 2
}
